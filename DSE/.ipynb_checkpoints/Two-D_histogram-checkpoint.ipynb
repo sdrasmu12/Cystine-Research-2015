{
 "cells": [
  {
   "cell_type": "code",
   "execution_count": 1,
   "metadata": {
    "collapsed": false
   },
   "outputs": [
    {
     "name": "stderr",
     "output_type": "stream",
     "text": [
      "1\n"
     ]
    }
   ],
   "source": [
    "use Modern::Perl;\n",
    "use HackaMol;\n",
    "use POSIX;\n",
    "my $bldr = HackaMol->new; 1;"
   ]
  },
  {
   "cell_type": "markdown",
   "metadata": {
    "collapsed": false
   },
   "source": [
    "## X-ray Structures"
   ]
  },
  {
   "cell_type": "code",
   "execution_count": null,
   "metadata": {
    "collapsed": false
   },
   "outputs": [],
   "source": [
    "system(\"ls\");"
   ]
  },
  {
   "cell_type": "code",
   "execution_count": null,
   "metadata": {
    "collapsed": false,
    "scrolled": true
   },
   "outputs": [],
   "source": [
    "my $cystine_xtal = $bldr->read_file_mol('cystine_nmrs.xyz'); 1"
   ]
  },
  {
   "cell_type": "code",
   "execution_count": null,
   "metadata": {
    "collapsed": false
   },
   "outputs": [],
   "source": [
    "my $chi3  = HackaMol::Dihedral->new(atoms => [ map { $cystine_xtal->get_atoms($_)} 4,5,11,10 ]);\n",
    "my $chi1  = HackaMol::Dihedral->new(atoms => [ map { $cystine_xtal->get_atoms($_)} 1,4,5,11]);\n",
    "my $chi1p = HackaMol::Dihedral->new(atoms => [ map { $cystine_xtal->get_atoms($_)} 7,10,11,5]);\n",
    "\n",
    "my %chi13_bin = ();\n",
    "my $gran = 0.5;\n",
    "my $total;\n",
    "\n",
    "foreach my $t (0 .. 1000 ){ #$cystine_xtal->tmax){\n",
    "    $cystine_xtal->t($t);\n",
    "    my $dchi3  = floor($chi3->dihe_deg/$gran);\n",
    "    my $dchi1 = floor($chi1->dihe_deg/$gran);\n",
    "    my $dchi1p = floor($chi1p->dihe_deg/$gran);\n",
    "    #say \"$dchi3 $dchi1 $dchi1p\";\n",
    "    #my $dchi3  = $chi3->dihe_deg;\n",
    "    #my $dchi1  = $chi1->dihe_deg;\n",
    "    #my $dchi1p = $chi1p->dihe_deg;\n",
    "    $chi13_bin{$dchi3}{$dchi1}++;\n",
    "    $chi13_bin{$dchi3}{$dchi1p}++;\n",
    "    $total += 2;\n",
    "}\n"
   ]
  },
  {
   "cell_type": "code",
   "execution_count": null,
   "metadata": {
    "collapsed": false
   },
   "outputs": [],
   "source": [
    "open (my $fh , \">\", '/Users/chem_student/Desktop/SResearch/Dihecalcs/DSE.txt');\n",
    "printf $fh (\"%10s %10s %10s\\n\", 'x','y','z');\n",
    "foreach my $chi3 (sort {$a<=>$b} keys %chi13_bin){\n",
    "    foreach my $chi1 (sort {$a<=>$b} keys %{$chi13_bin{$chi3}}){\n",
    "        #printf $fh (\"%10.2f %10.2f %10.2f\\n\",$chi3,$chi1,$chi13_bin{$chi3}{$chi1} ); \n",
    "        printf $fh (\"%10.2f %10.2f %10.2f\\n\",$chi3*$gran,$chi1*$gran,100*$chi13_bin{$chi3}{$chi1}/$total ); \n",
    "\n",
    "\n",
    "    }\n",
    "}\n",
    "close($fh);"
   ]
  },
  {
   "cell_type": "code",
   "execution_count": null,
   "metadata": {
    "collapsed": true
   },
   "outputs": [],
   "source": []
  },
  {
   "cell_type": "code",
   "execution_count": null,
   "metadata": {
    "collapsed": true
   },
   "outputs": [],
   "source": []
  }
 ],
 "metadata": {
  "kernelspec": {
   "display_name": "Python 2",
   "language": "python",
   "name": "python2"
  },
  "language": "Perl",
  "language_info": {
   "name": "perl",
   "version": "5...2.0...1"
  }
 },
 "nbformat": 4,
 "nbformat_minor": 0
}
